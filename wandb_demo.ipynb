{
 "cells": [
  {
   "cell_type": "code",
   "execution_count": 14,
   "metadata": {},
   "outputs": [],
   "source": [
    "import wandb\n",
    "import numpy as np\n",
    "import torch\n",
    "import torch.nn as nn"
   ]
  },
  {
   "cell_type": "code",
   "execution_count": 27,
   "metadata": {},
   "outputs": [
    {
     "data": {
      "text/html": [
       "wandb version 0.12.15 is available!  To upgrade, please run:\n",
       " $ pip install wandb --upgrade"
      ],
      "text/plain": [
       "<IPython.core.display.HTML object>"
      ]
     },
     "metadata": {},
     "output_type": "display_data"
    },
    {
     "data": {
      "text/html": [
       "Tracking run with wandb version 0.12.11"
      ],
      "text/plain": [
       "<IPython.core.display.HTML object>"
      ]
     },
     "metadata": {},
     "output_type": "display_data"
    },
    {
     "data": {
      "text/html": [
       "Run data is saved locally in <code>f:\\workspace\\garbage_classification\\wandb\\run-20220430_140831-w67jud4a</code>"
      ],
      "text/plain": [
       "<IPython.core.display.HTML object>"
      ]
     },
     "metadata": {},
     "output_type": "display_data"
    },
    {
     "data": {
      "text/html": [
       "Syncing run <strong><a href=\"https://wandb.ai/leonhardt/uncategorized/runs/w67jud4a\" target=\"_blank\">hellowandb</a></strong> to <a href=\"https://wandb.ai/leonhardt/uncategorized\" target=\"_blank\">Weights & Biases</a> (<a href=\"https://wandb.me/run\" target=\"_blank\">docs</a>)<br/>Sweep page:  <a href=\"https://wandb.ai/leonhardt/uncategorized/sweeps/set7dcvo\" target=\"_blank\">https://wandb.ai/leonhardt/uncategorized/sweeps/set7dcvo</a>"
      ],
      "text/plain": [
       "<IPython.core.display.HTML object>"
      ]
     },
     "metadata": {},
     "output_type": "display_data"
    },
    {
     "data": {
      "text/plain": [
       "<function wandb.sdk.wandb_run.finish(exit_code: int = None, quiet: bool = None) -> None>"
      ]
     },
     "execution_count": 27,
     "metadata": {},
     "output_type": "execute_result"
    }
   ],
   "source": [
    "config = {\n",
    "    'a': 10,\n",
    "    'b': True,\n",
    "    'c': 'hello'\n",
    "}\n",
    "\n",
    "wandb.init(name='hellowandb' ,config=config)\n",
    "opt=wandb.config\n",
    "wandb.finish"
   ]
  },
  {
   "cell_type": "code",
   "execution_count": 17,
   "metadata": {},
   "outputs": [],
   "source": [
    "import yaml\n",
    "\n",
    "with open('options.yml', encoding='UTF-8') as f:\n",
    "    d = yaml.safe_load(f)\n",
    "\n",
    "opt.update(d)"
   ]
  },
  {
   "cell_type": "code",
   "execution_count": 26,
   "metadata": {},
   "outputs": [
    {
     "data": {
      "text/plain": [
       "{'epochs': 10,\n",
       " 'learning_rate': 0.09820197101274794,\n",
       " 'test_name': 'hello',\n",
       " 'a': 10,\n",
       " 'b': True,\n",
       " 'c': 'hello',\n",
       " 'project': 'GarbageClassification',\n",
       " 'group': 'Resnet',\n",
       " 'job_type': 'train',\n",
       " 'config': {'n_epochs': 30,\n",
       "  'batch_size': 16,\n",
       "  'lr': 0.001,\n",
       "  'weight_decay': 0.001},\n",
       " 'dataroot': 'dataset/raw',\n",
       " 'dataset_name': 'garbage-raw',\n",
       " 'dataset_type': 'dataset',\n",
       " 'dataset_desc': 'Raw garbage dataset',\n",
       " 'dataset_metadata': {'num_classes': 6, 'train': 2024, 'test': 503},\n",
       " 'model_name': 'resnet101',\n",
       " 'model_desc': 'resnet101 + lr_cosine_annealing',\n",
       " 'model_metadata': {'use_BN': True, 'activation': 'relu', 'dropout': 0.5}}"
      ]
     },
     "execution_count": 26,
     "metadata": {},
     "output_type": "execute_result"
    }
   ],
   "source": [
    "opt.as_dict()"
   ]
  },
  {
   "cell_type": "code",
   "execution_count": 22,
   "metadata": {},
   "outputs": [
    {
     "name": "stdout",
     "output_type": "stream",
     "text": [
      "\n"
     ]
    },
    {
     "data": {
      "text/html": [
       "Waiting for W&B process to finish... <strong style=\"color:green\">(success).</strong>"
      ],
      "text/plain": [
       "<IPython.core.display.HTML object>"
      ]
     },
     "metadata": {},
     "output_type": "display_data"
    },
    {
     "data": {
      "application/vnd.jupyter.widget-view+json": {
       "model_id": "89d4882908bb4943a7a9152d48dcb2ac",
       "version_major": 2,
       "version_minor": 0
      },
      "text/plain": [
       "VBox(children=(Label(value='0.001 MB of 0.001 MB uploaded (0.000 MB deduped)\\r'), FloatProgress(value=1.0, max…"
      ]
     },
     "metadata": {},
     "output_type": "display_data"
    },
    {
     "data": {
      "text/html": [
       "Synced <strong style=\"color:#cdcd00\">earthy-sweep-5</strong>: <a href=\"https://wandb.ai/leonhardt/uncategorized/runs/w67jud4a\" target=\"_blank\">https://wandb.ai/leonhardt/uncategorized/runs/w67jud4a</a><br/>Synced 4 W&B file(s), 0 media file(s), 0 artifact file(s) and 0 other file(s)"
      ],
      "text/plain": [
       "<IPython.core.display.HTML object>"
      ]
     },
     "metadata": {},
     "output_type": "display_data"
    },
    {
     "data": {
      "text/html": [
       "Find logs at: <code>.\\wandb\\run-20220430_123138-w67jud4a\\logs</code>"
      ],
      "text/plain": [
       "<IPython.core.display.HTML object>"
      ]
     },
     "metadata": {},
     "output_type": "display_data"
    }
   ],
   "source": [
    "wandb.finish()"
   ]
  },
  {
   "cell_type": "code",
   "execution_count": null,
   "metadata": {},
   "outputs": [],
   "source": [
    "sweep_config = {\n",
    "    \"name\": \"my-sweep\",\n",
    "    \"method\": \"random\",\n",
    "    \"metric\": {\n",
    "        \"goal\": 'minimize',\n",
    "        \"name\": 'loss'\n",
    "    },\n",
    "    \"parameters\": {\n",
    "        \"epochs\": {\n",
    "            \"values\": [10, 20, 50]\n",
    "        },\n",
    "        \"learning_rate\": {\n",
    "            \"min\": 0.0001,\n",
    "            \"max\": 0.1\n",
    "        },\n",
    "        \"test_name\": {\"value\": 'hello'},\n",
    "    }\n",
    "}\n",
    "\n",
    "sweep_id = wandb.sweep(sweep_config)\n",
    "\n",
    "def train():\n",
    "    with wandb.init() as run:\n",
    "        config = wandb.config\n",
    "        print(config)\n",
    "        for epoch in range(config[\"epochs\"]):\n",
    "            loss = np.cos(epoch)\n",
    "            wandb.log({\"loss\": loss, \"epoch\": epoch})\n",
    "\n",
    "count = 5  # number of runs to execute\n",
    "wandb.agent(sweep_id, function=train, count=count)"
   ]
  },
  {
   "cell_type": "code",
   "execution_count": 4,
   "metadata": {},
   "outputs": [
    {
     "name": "stderr",
     "output_type": "stream",
     "text": [
      "wandb: WARNING Ignored wandb.init() arg project when running a sweep.\n"
     ]
    },
    {
     "data": {
      "text/html": [
       "wandb version 0.12.15 is available!  To upgrade, please run:\n",
       " $ pip install wandb --upgrade"
      ],
      "text/plain": [
       "<IPython.core.display.HTML object>"
      ]
     },
     "metadata": {},
     "output_type": "display_data"
    },
    {
     "data": {
      "text/html": [
       "Tracking run with wandb version 0.12.11"
      ],
      "text/plain": [
       "<IPython.core.display.HTML object>"
      ]
     },
     "metadata": {},
     "output_type": "display_data"
    },
    {
     "data": {
      "text/html": [
       "Run data is saved locally in <code>f:\\workspace\\garbage_classification\\wandb\\run-20220430_101406-w67jud4a</code>"
      ],
      "text/plain": [
       "<IPython.core.display.HTML object>"
      ]
     },
     "metadata": {},
     "output_type": "display_data"
    },
    {
     "data": {
      "text/html": [
       "Syncing run <strong><a href=\"https://wandb.ai/leonhardt/uncategorized/runs/w67jud4a\" target=\"_blank\">earthy-sweep-5</a></strong> to <a href=\"https://wandb.ai/leonhardt/uncategorized\" target=\"_blank\">Weights & Biases</a> (<a href=\"https://wandb.me/run\" target=\"_blank\">docs</a>)<br/>Sweep page:  <a href=\"https://wandb.ai/leonhardt/uncategorized/sweeps/set7dcvo\" target=\"_blank\">https://wandb.ai/leonhardt/uncategorized/sweeps/set7dcvo</a>"
      ],
      "text/plain": [
       "<IPython.core.display.HTML object>"
      ]
     },
     "metadata": {},
     "output_type": "display_data"
    }
   ],
   "source": [
    "run = wandb.init(project=\"table-test\")\n",
    "my_table = wandb.Table(columns=[\"a\", \"b\"], data=[[\"a1\", \"b1\"], [\"a2\", \"b2\"]])\n",
    "run.log({\"Table Name\": my_table})"
   ]
  },
  {
   "cell_type": "code",
   "execution_count": 12,
   "metadata": {},
   "outputs": [],
   "source": [
    "# create a Table with the same columns as above,\n",
    "# plus confidence scores for all labels\n",
    "columns = [\"id\", \"image\", \"guess\", \"truth\"]\n",
    "for digit in range(10):\n",
    "    columns.append(\"score_\" + str(digit))\n",
    "test_table = wandb.Table(columns=columns)\n",
    "\n",
    "# run inference on every image, assuming my_model returns the\n",
    "# predicted label, and the ground truth labels are available\n",
    "score = torch.linspace(0, 1, 10)\n",
    "imgs = ['dataset/train/glass/glass' + str(i) + '.jpg' for i in range(3, 7)]\n",
    "for img_id, img in enumerate(imgs):\n",
    "    true_label = 1\n",
    "    guess_label = 0\n",
    "    test_table.add_data(img_id, wandb.Image(img), guess_label, true_label, *score.tolist())\n",
    "\n",
    "wandb.log({\"ttable\": test_table})"
   ]
  },
  {
   "cell_type": "code",
   "execution_count": 13,
   "metadata": {},
   "outputs": [
    {
     "name": "stdout",
     "output_type": "stream",
     "text": [
      "\n"
     ]
    },
    {
     "data": {
      "text/html": [
       "Waiting for W&B process to finish... <strong style=\"color:green\">(success).</strong>"
      ],
      "text/plain": [
       "<IPython.core.display.HTML object>"
      ]
     },
     "metadata": {},
     "output_type": "display_data"
    },
    {
     "data": {
      "application/vnd.jupyter.widget-view+json": {
       "model_id": "5f669440082a4de9b3dc075d588a89ea",
       "version_major": 2,
       "version_minor": 0
      },
      "text/plain": [
       "VBox(children=(Label(value='0.040 MB of 0.040 MB uploaded (0.000 MB deduped)\\r'), FloatProgress(value=1.0, max…"
      ]
     },
     "metadata": {},
     "output_type": "display_data"
    },
    {
     "data": {
      "text/html": [
       "Synced <strong style=\"color:#cdcd00\">earthy-sweep-5</strong>: <a href=\"https://wandb.ai/leonhardt/uncategorized/runs/w67jud4a\" target=\"_blank\">https://wandb.ai/leonhardt/uncategorized/runs/w67jud4a</a><br/>Synced 4 W&B file(s), 2 media file(s), 6 artifact file(s) and 0 other file(s)"
      ],
      "text/plain": [
       "<IPython.core.display.HTML object>"
      ]
     },
     "metadata": {},
     "output_type": "display_data"
    },
    {
     "data": {
      "text/html": [
       "Find logs at: <code>.\\wandb\\run-20220430_101406-w67jud4a\\logs</code>"
      ],
      "text/plain": [
       "<IPython.core.display.HTML object>"
      ]
     },
     "metadata": {},
     "output_type": "display_data"
    }
   ],
   "source": [
    "wandb.finish()"
   ]
  }
 ],
 "metadata": {
  "interpreter": {
   "hash": "1fb9eedf25d3862d4cca6b38bdc9256cd8a7d64a6c3f7bbfe602c3c916c2951d"
  },
  "kernelspec": {
   "display_name": "Python 3.9.7 64-bit",
   "language": "python",
   "name": "python3"
  },
  "language_info": {
   "codemirror_mode": {
    "name": "ipython",
    "version": 3
   },
   "file_extension": ".py",
   "mimetype": "text/x-python",
   "name": "python",
   "nbconvert_exporter": "python",
   "pygments_lexer": "ipython3",
   "version": "3.9.7"
  },
  "orig_nbformat": 4
 },
 "nbformat": 4,
 "nbformat_minor": 2
}
